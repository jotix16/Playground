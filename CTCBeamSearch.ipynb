{
 "cells": [
  {
   "cell_type": "code",
   "execution_count": 627,
   "metadata": {},
   "outputs": [],
   "source": [
    "import sys\n",
    "sys.executable\n",
    "\n",
    "import numpy as np"
   ]
  },
  {
   "cell_type": "markdown",
   "metadata": {},
   "source": [
    "### CTC Beam Search Algorithm with external Language Model(LM)\n",
    "beam search as described by the paper of Hwang et al. and the paper of Graves et al."
   ]
  },
  {
   "cell_type": "code",
   "execution_count": 766,
   "metadata": {},
   "outputs": [],
   "source": [
    "class Beam():\n",
    "    def __init__(self, labeling=(), pnB=0, pB=0, pT=0):\n",
    "        self.labeling = labeling\n",
    "        self.pNonBlank = pnB\n",
    "        self.pBlank = pB\n",
    "        self.pTotal = pT\n",
    "\n",
    "        # Language Model\n",
    "        self.pLM = 0\n",
    "        self.LM_applied = False\n",
    "    \n",
    "    def applyLM(self, alphabet, LM=None):\n",
    "        if LM and not self.LM_applied:\n",
    "            c1 = alphabet[self.labeling[-2] if len(self.labeling)>=2 else alphabet.index(' ')]\n",
    "            c2 = alphabet[self.labeling[-1]]\n",
    "            lmFactor = 0.01 # influence of language model\n",
    "            self.pLM *= LM.getCharBigram(c1, c2) ** lmFactor #add probability of seeing first and second char next to each other to the char seq probability\n",
    "            self.LM_applied = True\n",
    "\n",
    "    def __str__(self):\n",
    "        return str(self.labeling)\n",
    "\n",
    "    def __repr__(self):\n",
    "        return \"Beam(labeling={}, pnB={}, pB={}, pT={})\".format(self.labeling, self.pNonBlank, self.pBlank, self.pTotal)\n",
    "\n",
    "\n",
    "\n",
    "class BeamDict():\n",
    "    def __init__(self, beamList=None):\n",
    "        if beamList:\n",
    "            for beam in beamList:\n",
    "                self.entries = {beam.labeling:beam for beam in beamList}\n",
    "        else:\n",
    "            self.entries = {}\n",
    "\n",
    "    def getBest(self, BW=4):\n",
    "        beamList = [a for _,a in self.entries.items()]\n",
    "        beamList = sorted(beamList, key = lambda x: x.pTotal, reverse = True)\n",
    "        return BeamDict(beamList[:BW])\n",
    "\n",
    "    def addBeam(self, labeling):\n",
    "        if labeling not in self.entries:\n",
    "            self.entries[labeling] = Beam(labeling)\n",
    "\n",
    "    def norm(self):\n",
    "        \"length-normalise LM score\"\n",
    "        for k in self.entries:\n",
    "            labelingLen = len(self.entries[k].labeling)\n",
    "            self.entries[k].pLM = self.entries[k].pLM ** (1.0 / (labelingLen if labelingLen else 1.0))\n",
    "\n",
    "    def __str__(self):\n",
    "        return self.entries.__str__()\n",
    "    \n",
    "    def __repr__(self):\n",
    "        return \"BeamDict(\" +self.entries.__repr__() +\")\"\n",
    "\n",
    "def ctcBeamSearch(alphabet, mat, LM=None, width=25):\n",
    "    blankIndex = len(alphabet)\n",
    "    _, maxT = mat.shape\n",
    "\n",
    "    beams = BeamDict()\n",
    "    beams.addBeam(labeling=())\n",
    "    beams.entries[()].pBlank = 1\n",
    "    beams.entries[()].pTotal = 1\n",
    "\n",
    "    for t in range(maxT):\n",
    "        bestBeams = beams.getBest(width)\n",
    "        beams = BeamDict()\n",
    "        for _,beam in bestBeams.entries.items():\n",
    "            labeling = beam.labeling\n",
    "            \n",
    "            # 1)Copying\n",
    "            beams.addBeam(labeling)\n",
    "            if(labeling):\n",
    "                # 1.a)repeating character\n",
    "                beams.entries[labeling].pNonBlank += beam.pNonBlank * mat[labeling[-1], t]\n",
    "            # 1.b)labeling ending with blank\n",
    "            beams.entries[labeling].pBlank += beam.pTotal * mat[blankIndex, t]\n",
    "            beams.entries[labeling].pTotal = beams.entries[labeling].pNonBlank + beams.entries[labeling].pBlank\n",
    "            beams.entries[labeling].pLM = beam.pLM\n",
    "            beams.entries[labeling].LM_applied = True\n",
    "\n",
    "            # 2)Extending\n",
    "            for c in range(len(alphabet)):\n",
    "                # 2.a) Adding doubling last character, only if there is a pB >0 otherwise\n",
    "                if (not labeling or labeling[-1] == c):\n",
    "                    pNonBlank = beam.pBlank * mat[c, t]\n",
    "                else:\n",
    "                    # 2.b) Extending with different char than the last one\n",
    "                    pNonBlank = beam.pTotal * mat[c, t]\n",
    "                \n",
    "                labeling_ = labeling + (c,)\n",
    "                # Fill info for the extended labeling\n",
    "                beams.addBeam(labeling_)\n",
    "                beams.entries[labeling_].pNonBlank += pNonBlank\n",
    "                beams.entries[labeling_].pTotal += pNonBlank\n",
    "                beams.entries[labeling_].applyLM(mat)\n",
    "                beams.entries[labeling_].LM_applied = True\n",
    "\n",
    "    # normalise LM scores according to beam-labeling-length\n",
    "    beams.norm()\n",
    "\n",
    "    bestBeam = [beams.entries[key] for key in beams.getBest(1).entries][0]\n",
    "    bestlabeling = ''\n",
    "    for c_ix in bestBeam.labeling:\n",
    "        bestlabeling += alphabet[c_ix]\n",
    "    return bestBeam, bestlabeling"
   ]
  },
  {
   "cell_type": "markdown",
   "metadata": {},
   "source": [
    "### Examples"
   ]
  },
  {
   "cell_type": "code",
   "execution_count": 768,
   "metadata": {},
   "outputs": [
    {
     "name": "stdout",
     "output_type": "stream",
     "text": [
      "(Beam(labeling=(0,), pnB=0.20800000000000002, pB=0.24000000000000002, pT=0.448), 'a')\n",
      "(Beam(labeling=(0,), pnB=0.256, pB=0.22400000000000003, pT=0.4800000000000001), 'a')\n"
     ]
    }
   ],
   "source": [
    "alphabet = 'ab'\n",
    "mat1 = np.array([[0.4, 0, 0.6], [0.4, 0.4, 0.2], [0.4, 0.1, 0.5]]).T\n",
    "\n",
    "mat2 = np.array([[0.4, 0, 0.6], [0.4, 0.2, 0.4], [0.4, 0.2, 0.4]]).T\n",
    "print(ctcBeamSearch(alphabet, mat1, None))\n",
    "print(ctcBeamSearch(alphabet, mat2, None))"
   ]
  }
 ],
 "metadata": {
  "kernelspec": {
   "display_name": "Python 3",
   "language": "python",
   "name": "python3"
  },
  "language_info": {
   "codemirror_mode": {
    "name": "ipython",
    "version": 3
   },
   "file_extension": ".py",
   "mimetype": "text/x-python",
   "name": "python",
   "nbconvert_exporter": "python",
   "pygments_lexer": "ipython3",
   "version": "3.8.6"
  }
 },
 "nbformat": 4,
 "nbformat_minor": 4
}
